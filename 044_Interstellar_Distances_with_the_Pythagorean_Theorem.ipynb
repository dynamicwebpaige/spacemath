{
 "cells": [
  {
   "cell_type": "markdown",
   "metadata": {},
   "source": [
    "# Calculating Star Distances\n",
    "\n",
    "Stars are spread out through space at many different distances from our own Sun and from each other. In this problem, you will calculate the distances between some familiar stars using the 3-dimensional distance formula in Cartesian coordinates. \n",
    "\n",
    "Our own Sun is at the origin of this coordinate system, and all distances are given in lightyears. \n",
    "\n",
    "The distance formula is given by: $ d = \\sqrt{(x_2 - x_1)^2 + (y_2 - y_1)^2 + (z_2 - z_1)^2} $"
   ]
  },
  {
   "cell_type": "code",
   "execution_count": 11,
   "metadata": {},
   "outputs": [
    {
     "data": {
      "text/plain": [
       "8.62902080192185"
      ]
     },
     "execution_count": 11,
     "metadata": {},
     "output_type": "execute_result"
    }
   ],
   "source": [
    "import math \n",
    "\n",
    "def distance_from_sun(x, y, z):\n",
    "    return math.sqrt(x**2 + y**2 + z**2)"
   ]
  },
  {
   "cell_type": "markdown",
   "metadata": {},
   "source": [
    "---------------------------------------------\n",
    "\n",
    "| Star | Distance from Sun | Constellation | X  |  Y |  Z | Distance from Polaris |\n",
    "|:----:|:-----------------:|:-------------:|:--:|:--:|:--:|:---------------------:|\n",
    "| Sun  | **0.0** | **None** | 0.0 | 0.0 | 0.0 | **390** |\n",
    "| Sirius  | **8.68** | **Canis Major** | -3.4 | -3.1 | 7.3 | **384** |\n",
    "| Alpha Centauri | **4.34** | **Cantaurus** | -1.8 | 0.0 | 3.9 | **387** |\n",
    "| Wolf 359  | **7.8** | **Leo** | 4.0 | 4.3 | 5.1 | **384** |\n",
    "| Procyon  | **11.45** | **Canis Minor** | -0.9 | 5.6 | -9.9 | **399** |\n",
    "| Polaris  | **390** | **Ursa Minor** | 99.6 | 28.2 | 376.0 | **0** |\n",
    "| Arcturus  | **36** | **Bootes** | 32.8 | 9.1 | 11.8 | **371** |\n",
    "| Tau Ceti  | **11.35** | **Cetus** | -6.9 | -8.6 | 2.5 | **390** |\n",
    "| HD 209458  | **153** | **Pegasus** | -94.1 | -120.5 | 5.2 | **444** |\n",
    "| Zubenelgenubi   | **72** | **Libra** | 64.6 | -22.0 | 23.0 | **358** |\n",
    "\n",
    "-------------------------------------------------\n",
    "\n",
    "### Question 1\n",
    "\n",
    "Within which constellations are these stars located?\n",
    "\n",
    "_Answer_: See above! Use your favorite search engine or textbook to verify the table.\n",
    "\n",
    "--------------------------------------------\n",
    "\n",
    "### Question 2\n",
    "\n",
    "What are the distances of these stars from the Sun in light years?\n",
    "\n",
    "_Answer_: Let's solve this by using something called a `pandas` DataFrame."
   ]
  },
  {
   "cell_type": "code",
   "execution_count": 5,
   "metadata": {},
   "outputs": [
    {
     "name": "stdout",
     "output_type": "stream",
     "text": [
      "  Constellation             Star     X      Y      Z\n",
      "0          None              Sun   0.0    0.0    0.0\n",
      "1   Canis Major           Sirius  -3.4   -3.1    7.3\n",
      "2     Cantaurus  Alpha Centrauri  -1.8    0.0    3.9\n",
      "3           Leo         Wolf 359   4.0    4.3    5.1\n",
      "4   Canis Minor          Procyon  -0.9    5.6   -9.9\n",
      "5    Ursa Minor          Polaris  99.6   28.2  376.0\n",
      "6        Bootes         Arcturus  32.8    9.1   11.8\n",
      "7         Cetus         Tau Ceti  -6.9   -8.6    2.5\n",
      "8       Pegasus        HD 209458 -94.1 -120.5    5.2\n",
      "9         Libra    Zubenelgenubi  64.6  -22.0   23.0\n"
     ]
    }
   ],
   "source": [
    "import pandas as pd\n",
    "\n",
    "d = {'Star': ['Sun', 'Sirius', 'Alpha Centrauri', 'Wolf 359', 'Procyon', 'Polaris', 'Arcturus', 'Tau Ceti', 'HD 209458', 'Zubenelgenubi'], \n",
    "     'Constellation': ['None', 'Canis Major', 'Cantaurus', 'Leo', 'Canis Minor', 'Ursa Minor', 'Bootes', 'Cetus', 'Pegasus', 'Libra'], \n",
    "     'X': [0.0, -3.4, -1.8, 4.0, -0.9, 99.6, 32.8, -6.9, -94.1, 64.6],\n",
    "     'Y': [0.0, -3.1, 0.0, 4.3, 5.6, 28.2, 9.1, -8.6, -120.5, -22.0], \n",
    "     'Z': [0.0, 7.3, 3.9, 5.1, -9.9, 376.0, 11.8, 2.5, 5.2, 23.0]}\n",
    "\n",
    "df = pd.DataFrame(data=d)\n",
    "\n",
    "print(df)"
   ]
  },
  {
   "cell_type": "markdown",
   "metadata": {},
   "source": [
    "---------------------------------------------\n",
    "\n",
    "### Question 3\n",
    "\n",
    "If you moved to the North Star, Polaris, how far would the Sun and other stars be from you? Enter the answer in the table above.\n",
    "\n",
    "### Question 4\n",
    "\n",
    "Which of these stars is the closest to Polaris?\n",
    "\n",
    "### Question 5\n",
    "\n",
    "What does your answer to **Question 4** tell you about the stars you see in the sky from Earth?"
   ]
  },
  {
   "cell_type": "code",
   "execution_count": null,
   "metadata": {
    "collapsed": true
   },
   "outputs": [],
   "source": []
  }
 ],
 "metadata": {
  "kernelspec": {
   "display_name": "Python 3",
   "language": "python",
   "name": "python3"
  },
  "language_info": {
   "codemirror_mode": {
    "name": "ipython",
    "version": 3
   },
   "file_extension": ".py",
   "mimetype": "text/x-python",
   "name": "python",
   "nbconvert_exporter": "python",
   "pygments_lexer": "ipython3",
   "version": "3.6.1"
  }
 },
 "nbformat": 4,
 "nbformat_minor": 2
}
