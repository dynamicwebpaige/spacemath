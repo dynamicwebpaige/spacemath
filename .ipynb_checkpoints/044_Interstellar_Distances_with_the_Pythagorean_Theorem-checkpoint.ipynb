{
 "cells": [
  {
   "cell_type": "markdown",
   "metadata": {},
   "source": [
    "# Calculating Star Distances\n",
    "\n",
    "Stars are spread out through space at many different distances from our own Sun and from each other. In this problem, you will calculate the distances between some familiar stars using the 3-dimensional distance formula in Cartesian coordinates. Our own Sun is at the origin of this coordinate system, and all distances are given in lightyears. The distance formula is given by: \n",
    "\n",
    "$ d = \\sqrt{(x_2 - x_1)^2 + (y_2 - y_1)^2 + (z_2 - z_1)^2} $\n",
    "\n",
    "| Star | Distance from Sun | Constellation | X  |  Y |  Z | Distance from Polaris |\n",
    "|:----:|:-----------------:|:-------------:|:--:|:--:|:--:|:---------------------:|\n",
    "| Sun  | | ||||||\n",
    "| Sirius  | | ||||||\n",
    "| Alpha Centauri  | | ||||||\n",
    "| Wolf 359  | | ||||||\n",
    "| Procyon  | | ||||||\n",
    "| Polaris  | | ||||||\n",
    "| Arcturus  | | ||||||\n",
    "| Tau Ceti  | | ||||||\n",
    "| HD 209458  | | ||||||\n",
    "| Zubenelgenubi   | | ||||||\n",
    "\n",
    "-------------------------------------------------\n",
    "\n",
    "### Question 1\n",
    "\n",
    "Within which constellations are these stars located?\n",
    "\n",
    "### Question 2\n",
    "\n",
    "What are the distances of these stars from the Sun in light years?\n",
    "\n",
    "### Question 3\n",
    "\n",
    "If you moved to the North Star, Polaris, how far would the Sun and other stars be from you? Enter the answer in the table above.\n",
    "\n",
    "### Question 4\n",
    "\n",
    "Which of these stars is the closest to Polaris?\n",
    "\n",
    "### Question 5\n",
    "\n",
    "What does your answer to **Question 4** tell you about the stars you see in the sky from Earth?"
   ]
  },
  {
   "cell_type": "code",
   "execution_count": null,
   "metadata": {
    "collapsed": true
   },
   "outputs": [],
   "source": []
  }
 ],
 "metadata": {
  "kernelspec": {
   "display_name": "Python 3",
   "language": "python",
   "name": "python3"
  },
  "language_info": {
   "codemirror_mode": {
    "name": "ipython",
    "version": 3
   },
   "file_extension": ".py",
   "mimetype": "text/x-python",
   "name": "python",
   "nbconvert_exporter": "python",
   "pygments_lexer": "ipython3",
   "version": "3.6.1"
  }
 },
 "nbformat": 4,
 "nbformat_minor": 2
}
