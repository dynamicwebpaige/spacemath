{
 "cells": [
  {
   "cell_type": "markdown",
   "metadata": {},
   "source": [
    "# Calculating Star Distances\n",
    "\n",
    "Stars are spread out through space at many different distances from our own Sun and from each other. In this problem, you will calculate the distances between some familiar stars using the 3-dimensional distance formula in Cartesian coordinates. \n",
    "\n",
    "Our own Sun is at the origin of this coordinate system, and all distances are given in lightyears. \n",
    "\n",
    "The distance formula is given by: $ d = \\sqrt{(x_2 - x_1)^2 + (y_2 - y_1)^2 + (z_2 - z_1)^2} $"
   ]
  },
  {
   "cell_type": "code",
   "execution_count": 12,
   "metadata": {},
   "outputs": [],
   "source": [
    "import math \n",
    "\n",
    "def distance_from_sun(x, y, z):\n",
    "    return math.sqrt(x**2 + y**2 + z**2)"
   ]
  },
  {
   "cell_type": "markdown",
   "metadata": {},
   "source": [
    "---------------------------------------------\n",
    "\n",
    "| Star | Distance from Sun | Constellation | X  |  Y |  Z | Distance from Polaris |\n",
    "|:----:|:-----------------:|:-------------:|:--:|:--:|:--:|:---------------------:|\n",
    "| Sun  | **0.0** | **None** | 0.0 | 0.0 | 0.0 | **390** |\n",
    "| Sirius  | **8.68** | **Canis Major** | -3.4 | -3.1 | 7.3 | **384** |\n",
    "| Alpha Centauri | **4.34** | **Cantaurus** | -1.8 | 0.0 | 3.9 | **387** |\n",
    "| Wolf 359  | **7.8** | **Leo** | 4.0 | 4.3 | 5.1 | **384** |\n",
    "| Procyon  | **11.45** | **Canis Minor** | -0.9 | 5.6 | -9.9 | **399** |\n",
    "| Polaris  | **390** | **Ursa Minor** | 99.6 | 28.2 | 376.0 | **0** |\n",
    "| Arcturus  | **36** | **Bootes** | 32.8 | 9.1 | 11.8 | **371** |\n",
    "| Tau Ceti  | **11.35** | **Cetus** | -6.9 | -8.6 | 2.5 | **390** |\n",
    "| HD 209458  | **153** | **Pegasus** | -94.1 | -120.5 | 5.2 | **444** |\n",
    "| Zubenelgenubi   | **72** | **Libra** | 64.6 | -22.0 | 23.0 | **358** |\n",
    "\n",
    "-------------------------------------------------\n",
    "\n",
    "### Question 1\n",
    "\n",
    "Within which constellations are these stars located?\n",
    "\n",
    "_Answer_: See above! Use your favorite search engine or textbook to verify the table.\n",
    "\n",
    "--------------------------------------------\n",
    "\n",
    "### Question 2\n",
    "\n",
    "What are the distances of these stars from the Sun in light years?\n",
    "\n",
    "_Answer_: Let's solve this by using something called a `pandas` DataFrame."
   ]
  },
  {
   "cell_type": "code",
   "execution_count": 39,
   "metadata": {},
   "outputs": [
    {
     "name": "stderr",
     "output_type": "stream",
     "text": [
      "C:\\Users\\pabailey\\AppData\\Local\\Continuum\\Anaconda3\\lib\\site-packages\\ipykernel_launcher.py:15: SettingWithCopyWarning: \n",
      "A value is trying to be set on a copy of a slice from a DataFrame\n",
      "\n",
      "See the caveats in the documentation: http://pandas.pydata.org/pandas-docs/stable/indexing.html#indexing-view-versus-copy\n",
      "  from ipykernel import kernelapp as app\n"
     ]
    }
   ],
   "source": [
    "import pandas as pd\n",
    "\n",
    "d = {'Star': ['Sun', 'Sirius', 'Alpha Centrauri', 'Wolf 359', 'Procyon', 'Polaris', 'Arcturus', 'Tau Ceti', 'HD 209458', 'Zubenelgenubi'], \n",
    "     'Constellation': ['None', 'Canis Major', 'Cantaurus', 'Leo', 'Canis Minor', 'Ursa Minor', 'Bootes', 'Cetus', 'Pegasus', 'Libra'], \n",
    "     'X': [0.0, -3.4, -1.8, 4.0, -0.9, 99.6, 32.8, -6.9, -94.1, 64.6],\n",
    "     'Y': [0.0, -3.1, 0.0, 4.3, 5.6, 28.2, 9.1, -8.6, -120.5, -22.0], \n",
    "     'Z': [0.0, 7.3, 3.9, 5.1, -9.9, 376.0, 11.8, 2.5, 5.2, 23.0],\n",
    "     'Distance from Sun': [0.0, 0.0, 0.0, 0.0, 0.0, 0.0, 0.0, 0.0, 0.0, 0.0],\n",
    "     'Distance from Polaris': [0.0, 0.0, 0.0, 0.0, 0.0, 0.0, 0.0, 0.0, 0.0, 0.0]}\n",
    "\n",
    "df = pd.DataFrame(data = d)\n",
    "\n",
    "# Calculate distance from the Sun for each star.\n",
    "for i in range(len(df)):\n",
    "    df['Distance from Sun'][i] = distance_from_sun(df['X'][i], df['Y'][i], df['Z'][i])"
   ]
  },
  {
   "cell_type": "markdown",
   "metadata": {},
   "source": [
    "---------------------------------------------\n",
    "\n",
    "### Question 3\n",
    "\n",
    "If you moved to the North Star, Polaris, how far would the Sun and other stars be from you? Enter the answer in the table above.\n",
    "\n",
    "_Answer_: This would be similar to the calculation for distance from the Sun."
   ]
  },
  {
   "cell_type": "code",
   "execution_count": 40,
   "metadata": {},
   "outputs": [
    {
     "name": "stdout",
     "output_type": "stream",
     "text": [
      "  Constellation  Distance from Polaris  Distance from Sun             Star  \\\n",
      "0          None             389.988974           0.000000              Sun   \n",
      "1   Canis Major             384.094233           8.629021           Sirius   \n",
      "2     Cantaurus             386.698345           4.295346  Alpha Centrauri   \n",
      "3           Leo             383.767351           7.778175         Wolf 359   \n",
      "4   Canis Minor             399.411843          11.409645          Procyon   \n",
      "5    Ursa Minor               0.000000         389.988974          Polaris   \n",
      "6        Bootes             370.767704          36.026240         Arcturus   \n",
      "7         Cetus             390.126569          11.305751         Tau Ceti   \n",
      "8       Pegasus             443.986509         152.977449        HD 209458   \n",
      "9         Libra             358.265321          72.014998    Zubenelgenubi   \n",
      "\n",
      "      X      Y      Z  \n",
      "0   0.0    0.0    0.0  \n",
      "1  -3.4   -3.1    7.3  \n",
      "2  -1.8    0.0    3.9  \n",
      "3   4.0    4.3    5.1  \n",
      "4  -0.9    5.6   -9.9  \n",
      "5  99.6   28.2  376.0  \n",
      "6  32.8    9.1   11.8  \n",
      "7  -6.9   -8.6    2.5  \n",
      "8 -94.1 -120.5    5.2  \n",
      "9  64.6  -22.0   23.0  \n"
     ]
    },
    {
     "name": "stderr",
     "output_type": "stream",
     "text": [
      "C:\\Users\\pabailey\\AppData\\Local\\Continuum\\Anaconda3\\lib\\site-packages\\ipykernel_launcher.py:5: SettingWithCopyWarning: \n",
      "A value is trying to be set on a copy of a slice from a DataFrame\n",
      "\n",
      "See the caveats in the documentation: http://pandas.pydata.org/pandas-docs/stable/indexing.html#indexing-view-versus-copy\n",
      "  \"\"\"\n"
     ]
    }
   ],
   "source": [
    "def distance_from_polaris(x, y, z):\n",
    "    return math.sqrt((x - 99.6)**2 + (y - 28.2)**2 + (z - 376.0)**2)\n",
    "\n",
    "for i in range(len(df)):\n",
    "    df['Distance from Polaris'][i] = distance_from_polaris(df['X'][i], df['Y'][i], df['Z'][i])\n",
    "    \n",
    "print(df)"
   ]
  },
  {
   "cell_type": "markdown",
   "metadata": {},
   "source": [
    "---------------------------------------------\n",
    "\n",
    "### Question 4\n",
    "\n",
    "Which of these stars is the closest to Polaris?\n",
    "\n",
    "_Answer_: Looks like **Zubenelgenubi**!\n",
    "\n",
    "----------------------------------------------\n",
    "\n",
    "### Question 5\n",
    "\n",
    "What does your answer to **Question 4** tell you about the stars you see in the sky from Earth?\n",
    "\n",
    "_Answer_: This is a great lesson in 3D space visualization. Even though Polaris and HD 209458 are close in the sky as viewed from Earth (they are in Ursa Minor and Pegasus respectively, as a star chart will show) they are actually the farthest apart of any two stars in this list.  "
   ]
  }
 ],
 "metadata": {
  "kernelspec": {
   "display_name": "Python 3",
   "language": "python",
   "name": "python3"
  },
  "language_info": {
   "codemirror_mode": {
    "name": "ipython",
    "version": 3
   },
   "file_extension": ".py",
   "mimetype": "text/x-python",
   "name": "python",
   "nbconvert_exporter": "python",
   "pygments_lexer": "ipython3",
   "version": "3.6.1"
  }
 },
 "nbformat": 4,
 "nbformat_minor": 2
}
